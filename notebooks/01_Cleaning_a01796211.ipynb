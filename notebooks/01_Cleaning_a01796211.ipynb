{
 "cells": [
  {
   "cell_type": "markdown",
   "id": "94939a5d",
   "metadata": {},
   "source": [
    "# Cleaning and EDA"
   ]
  },
  {
   "cell_type": "code",
   "execution_count": 6,
   "id": "31337b7f",
   "metadata": {},
   "outputs": [],
   "source": [
    "import pandas as pd\n",
    "import numpy as np\n",
    "from sklearn.preprocessing import LabelEncoder\n",
    "import matplotlib.pyplot as plt"
   ]
  },
  {
   "cell_type": "code",
   "execution_count": 7,
   "id": "bdd9ca02",
   "metadata": {},
   "outputs": [
    {
     "name": "stdout",
     "output_type": "stream",
     "text": [
      "Análisis Inicial de Tipos de Datos y Nulos:\n",
      "<class 'pandas.core.frame.DataFrame'>\n",
      "RangeIndex: 2153 entries, 0 to 2152\n",
      "Data columns (total 18 columns):\n",
      " #   Column                          Non-Null Count  Dtype \n",
      "---  ------                          --------------  ----- \n",
      " 0   Gender                          2135 non-null   object\n",
      " 1   Age                             2126 non-null   object\n",
      " 2   Height                          2125 non-null   object\n",
      " 3   Weight                          2137 non-null   object\n",
      " 4   family_history_with_overweight  2133 non-null   object\n",
      " 5   FAVC                            2137 non-null   object\n",
      " 6   FCVC                            2136 non-null   object\n",
      " 7   NCP                             2129 non-null   object\n",
      " 8   CAEC                            2131 non-null   object\n",
      " 9   SMOKE                           2134 non-null   object\n",
      " 10  CH2O                            2124 non-null   object\n",
      " 11  SCC                             2138 non-null   object\n",
      " 12  FAF                             2124 non-null   object\n",
      " 13  TUE                             2120 non-null   object\n",
      " 14  CALC                            2130 non-null   object\n",
      " 15  MTRANS                          2130 non-null   object\n",
      " 16  NObeyesdad                      2133 non-null   object\n",
      " 17  mixed_type_col                  1912 non-null   object\n",
      "dtypes: object(18)\n",
      "memory usage: 302.9+ KB\n"
     ]
    }
   ],
   "source": [
    "# =======================================================\n",
    "# I. Carga y Análisis Inicial\n",
    "# =======================================================\n",
    "df = pd.read_csv('../data/raw/obesity_estimation_modified.csv')\n",
    "print(\"Análisis Inicial de Tipos de Datos y Nulos:\")\n",
    "df.info()\n"
   ]
  },
  {
   "cell_type": "code",
   "execution_count": 8,
   "id": "d31762d2",
   "metadata": {},
   "outputs": [],
   "source": [
    "# =======================================================\n",
    "# II. Limpieza de Estructura\n",
    "# =======================================================\n",
    "df = df.drop(columns=['mixed_type_col'])\n",
    "df['NObeyesdad'] = df['NObeyesdad'].str.lower().str.strip()\n",
    "\n"
   ]
  },
  {
   "cell_type": "code",
   "execution_count": 9,
   "id": "7c6952d9",
   "metadata": {},
   "outputs": [],
   "source": [
    "# =======================================================\n",
    "# III. Conversión de Tipos de Datos y Manejo de Errores\n",
    "# =======================================================\n",
    "numerical_cols = ['Age', 'Height', 'Weight', 'FCVC', 'NCP', 'CH2O', 'FAF', 'TUE']\n",
    "for col in numerical_cols:\n",
    "    # Coercer a NaN los valores no numéricos\n",
    "    df[col] = pd.to_numeric(df[col], errors='coerce')\n",
    "\n"
   ]
  },
  {
   "cell_type": "code",
   "execution_count": 10,
   "id": "fd127374",
   "metadata": {},
   "outputs": [
    {
     "name": "stderr",
     "output_type": "stream",
     "text": [
      "/var/folders/5h/5j2fd20j44vfb5v6q7xf1k6w0000gn/T/ipykernel_17533/2899225206.py:6: FutureWarning: A value is trying to be set on a copy of a DataFrame or Series through chained assignment using an inplace method.\n",
      "The behavior will change in pandas 3.0. This inplace method will never work because the intermediate object on which we are setting values always behaves as a copy.\n",
      "\n",
      "For example, when doing 'df[col].method(value, inplace=True)', try using 'df.method({col: value}, inplace=True)' or df[col] = df[col].method(value) instead, to perform the operation inplace on the original object.\n",
      "\n",
      "\n",
      "  df[col].fillna(df[col].median(), inplace=True)\n",
      "/var/folders/5h/5j2fd20j44vfb5v6q7xf1k6w0000gn/T/ipykernel_17533/2899225206.py:6: FutureWarning: A value is trying to be set on a copy of a DataFrame or Series through chained assignment using an inplace method.\n",
      "The behavior will change in pandas 3.0. This inplace method will never work because the intermediate object on which we are setting values always behaves as a copy.\n",
      "\n",
      "For example, when doing 'df[col].method(value, inplace=True)', try using 'df.method({col: value}, inplace=True)' or df[col] = df[col].method(value) instead, to perform the operation inplace on the original object.\n",
      "\n",
      "\n",
      "  df[col].fillna(df[col].median(), inplace=True)\n",
      "/var/folders/5h/5j2fd20j44vfb5v6q7xf1k6w0000gn/T/ipykernel_17533/2899225206.py:6: FutureWarning: A value is trying to be set on a copy of a DataFrame or Series through chained assignment using an inplace method.\n",
      "The behavior will change in pandas 3.0. This inplace method will never work because the intermediate object on which we are setting values always behaves as a copy.\n",
      "\n",
      "For example, when doing 'df[col].method(value, inplace=True)', try using 'df.method({col: value}, inplace=True)' or df[col] = df[col].method(value) instead, to perform the operation inplace on the original object.\n",
      "\n",
      "\n",
      "  df[col].fillna(df[col].median(), inplace=True)\n",
      "/var/folders/5h/5j2fd20j44vfb5v6q7xf1k6w0000gn/T/ipykernel_17533/2899225206.py:6: FutureWarning: A value is trying to be set on a copy of a DataFrame or Series through chained assignment using an inplace method.\n",
      "The behavior will change in pandas 3.0. This inplace method will never work because the intermediate object on which we are setting values always behaves as a copy.\n",
      "\n",
      "For example, when doing 'df[col].method(value, inplace=True)', try using 'df.method({col: value}, inplace=True)' or df[col] = df[col].method(value) instead, to perform the operation inplace on the original object.\n",
      "\n",
      "\n",
      "  df[col].fillna(df[col].median(), inplace=True)\n",
      "/var/folders/5h/5j2fd20j44vfb5v6q7xf1k6w0000gn/T/ipykernel_17533/2899225206.py:6: FutureWarning: A value is trying to be set on a copy of a DataFrame or Series through chained assignment using an inplace method.\n",
      "The behavior will change in pandas 3.0. This inplace method will never work because the intermediate object on which we are setting values always behaves as a copy.\n",
      "\n",
      "For example, when doing 'df[col].method(value, inplace=True)', try using 'df.method({col: value}, inplace=True)' or df[col] = df[col].method(value) instead, to perform the operation inplace on the original object.\n",
      "\n",
      "\n",
      "  df[col].fillna(df[col].median(), inplace=True)\n",
      "/var/folders/5h/5j2fd20j44vfb5v6q7xf1k6w0000gn/T/ipykernel_17533/2899225206.py:6: FutureWarning: A value is trying to be set on a copy of a DataFrame or Series through chained assignment using an inplace method.\n",
      "The behavior will change in pandas 3.0. This inplace method will never work because the intermediate object on which we are setting values always behaves as a copy.\n",
      "\n",
      "For example, when doing 'df[col].method(value, inplace=True)', try using 'df.method({col: value}, inplace=True)' or df[col] = df[col].method(value) instead, to perform the operation inplace on the original object.\n",
      "\n",
      "\n",
      "  df[col].fillna(df[col].median(), inplace=True)\n",
      "/var/folders/5h/5j2fd20j44vfb5v6q7xf1k6w0000gn/T/ipykernel_17533/2899225206.py:6: FutureWarning: A value is trying to be set on a copy of a DataFrame or Series through chained assignment using an inplace method.\n",
      "The behavior will change in pandas 3.0. This inplace method will never work because the intermediate object on which we are setting values always behaves as a copy.\n",
      "\n",
      "For example, when doing 'df[col].method(value, inplace=True)', try using 'df.method({col: value}, inplace=True)' or df[col] = df[col].method(value) instead, to perform the operation inplace on the original object.\n",
      "\n",
      "\n",
      "  df[col].fillna(df[col].median(), inplace=True)\n",
      "/var/folders/5h/5j2fd20j44vfb5v6q7xf1k6w0000gn/T/ipykernel_17533/2899225206.py:6: FutureWarning: A value is trying to be set on a copy of a DataFrame or Series through chained assignment using an inplace method.\n",
      "The behavior will change in pandas 3.0. This inplace method will never work because the intermediate object on which we are setting values always behaves as a copy.\n",
      "\n",
      "For example, when doing 'df[col].method(value, inplace=True)', try using 'df.method({col: value}, inplace=True)' or df[col] = df[col].method(value) instead, to perform the operation inplace on the original object.\n",
      "\n",
      "\n",
      "  df[col].fillna(df[col].median(), inplace=True)\n",
      "/var/folders/5h/5j2fd20j44vfb5v6q7xf1k6w0000gn/T/ipykernel_17533/2899225206.py:9: FutureWarning: A value is trying to be set on a copy of a DataFrame or Series through chained assignment using an inplace method.\n",
      "The behavior will change in pandas 3.0. This inplace method will never work because the intermediate object on which we are setting values always behaves as a copy.\n",
      "\n",
      "For example, when doing 'df[col].method(value, inplace=True)', try using 'df.method({col: value}, inplace=True)' or df[col] = df[col].method(value) instead, to perform the operation inplace on the original object.\n",
      "\n",
      "\n",
      "  df[col].fillna(df[col].mode()[0], inplace=True)\n"
     ]
    }
   ],
   "source": [
    "# =======================================================\n",
    "# IV. Imputación de Valores Nulos\n",
    "# =======================================================\n",
    "# Imputar Numéricas con Mediana\n",
    "for col in df.select_dtypes(include=[np.float64]).columns:\n",
    "    df[col].fillna(df[col].median(), inplace=True)\n",
    "# Imputar Categóricas con Moda\n",
    "for col in df.select_dtypes(include=['object']).columns:\n",
    "    df[col].fillna(df[col].mode()[0], inplace=True)\n",
    "\n"
   ]
  },
  {
   "cell_type": "code",
   "execution_count": 11,
   "id": "e190d56b",
   "metadata": {},
   "outputs": [],
   "source": [
    "# =======================================================\n",
    "# V. Gestión de Outliers (Capping)\n",
    "# =======================================================\n",
    "capping_limits = {\n",
    "    'Age': 100, 'Height': 2.5, 'Weight': 300, 'FCVC': 3,\n",
    "    'NCP': 4, 'CH2O': 3, 'FAF': 3, 'TUE': 2\n",
    "}\n",
    "for col, limit in capping_limits.items():\n",
    "    df[col] = df[col].clip(upper=limit)\n",
    "\n"
   ]
  },
  {
   "cell_type": "code",
   "execution_count": 12,
   "id": "696b4a6d",
   "metadata": {},
   "outputs": [],
   "source": [
    "# =======================================================\n",
    "# VII. Preprocesamiento Final (Encoding)\n",
    "# =======================================================\n",
    "# 1. Label Encoding para la Variable Target\n",
    "le = LabelEncoder()\n",
    "df['NObeyesdad_Encoded'] = le.fit_transform(df['NObeyesdad'])\n",
    "df_temp = df.drop(columns=['NObeyesdad']) # Quitar la columna original\n",
    "\n",
    "# 2. One-Hot Encoding para Features\n",
    "categorical_features = df_temp.select_dtypes(include=['object']).columns\n",
    "df_final_encoded = pd.get_dummies(df_temp, columns=categorical_features, drop_first=True)\n"
   ]
  },
  {
   "cell_type": "code",
   "execution_count": 13,
   "id": "80e9b1e6",
   "metadata": {},
   "outputs": [
    {
     "name": "stdout",
     "output_type": "stream",
     "text": [
      "\n",
      "Dataset final guardado como: obesity_estimation_final_preprocessed.csv\n"
     ]
    }
   ],
   "source": [
    "\n",
    "# =======================================================\n",
    "# VIII. Guardar el Dataset Final\n",
    "# =======================================================\n",
    "\n",
    "df_final_encoded.to_csv('../data/processed/a01796211/obesity_estimation_final_preprocessed.csv', index=False)\n",
    "print(f\"\\nDataset final guardado como: obesity_estimation_final_preprocessed.csv\")\n"
   ]
  },
  {
   "cell_type": "code",
   "execution_count": null,
   "id": "d6edd58f",
   "metadata": {},
   "outputs": [],
   "source": []
  }
 ],
 "metadata": {
  "kernelspec": {
   "display_name": "dvc_azure_venv (3.13.7)",
   "language": "python",
   "name": "python3"
  },
  "language_info": {
   "codemirror_mode": {
    "name": "ipython",
    "version": 3
   },
   "file_extension": ".py",
   "mimetype": "text/x-python",
   "name": "python",
   "nbconvert_exporter": "python",
   "pygments_lexer": "ipython3",
   "version": "3.13.7"
  }
 },
 "nbformat": 4,
 "nbformat_minor": 5
}
